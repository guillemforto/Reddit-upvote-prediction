{
 "cells": [
  {
   "cell_type": "markdown",
   "metadata": {},
   "source": [
    "# Reddit upvote prediction"
   ]
  },
  {
   "cell_type": "code",
   "execution_count": 33,
   "metadata": {},
   "outputs": [],
   "source": [
    "from __future__ import division\n",
    "import sys\n",
    "import os\n",
    "\n",
    "# Dataframe manipulation\n",
    "import pandas as pd\n",
    "pd.set_option('max_colwidth', 100)\n",
    "pd.set_option('display.max_rows', 50) # to see more lines\n",
    "pd.options.mode.chained_assignment = None  # default='warn'\n",
    "\n",
    "import pickle\n",
    "\n",
    "# General\n",
    "import numpy as np\n",
    "import math\n",
    "from collections import Counter\n",
    "import multiprocessing\n",
    "from multiprocessing import Pool\n",
    "import time\n",
    "from tqdm import tqdm\n",
    "from itertools import groupby\n",
    "\n",
    "# Text mining\n",
    "    # cleaning\n",
    "import nltk\n",
    "from nltk import tokenize\n",
    "from nltk.corpus import stopwords\n",
    "from spellchecker import SpellChecker\n",
    "from nltk.stem import WordNetLemmatizer, PorterStemmer\n",
    "    # tf-idf\n",
    "from sklearn.feature_extraction.text import TfidfVectorizer\n",
    "from emoji import UNICODE_EMOJI\n",
    "from nltk import tokenize\n",
    "from vaderSentiment.vaderSentiment import SentimentIntensityAnalyzer\n",
    "\n",
    "# Graphs\n",
    "import networkx as nx\n",
    "\n",
    "# Plots\n",
    "import matplotlib.pyplot as plt\n",
    "\n",
    "# URLs analysis\n",
    "import re\n",
    "import urllib.parse\n",
    "from urllib.parse import urlparse\n",
    "import math\n",
    "\n",
    "# for exportation\n",
    "import csv\n",
    "\n",
    "from datetime import datetime"
   ]
  },
  {
   "cell_type": "code",
   "execution_count": 70,
   "metadata": {},
   "outputs": [
    {
     "name": "stderr",
     "output_type": "stream",
     "text": [
      "[nltk_data] Downloading package wordnet to\n",
      "[nltk_data]     /Users/guillemforto/nltk_data...\n",
      "[nltk_data]   Package wordnet is already up-to-date!\n"
     ]
    },
    {
     "data": {
      "text/plain": [
       "True"
      ]
     },
     "execution_count": 70,
     "metadata": {},
     "output_type": "execute_result"
    }
   ],
   "source": [
    "nltk.download('wordnet')"
   ]
  },
  {
   "cell_type": "markdown",
   "metadata": {},
   "source": [
    "## Reading the data"
   ]
  },
  {
   "cell_type": "code",
   "execution_count": 34,
   "metadata": {},
   "outputs": [],
   "source": [
    "df = pd.read_csv(\"comments_students.csv\")"
   ]
  },
  {
   "cell_type": "code",
   "execution_count": 6,
   "metadata": {},
   "outputs": [
    {
     "data": {
      "text/plain": [
       "148848"
      ]
     },
     "execution_count": 6,
     "metadata": {},
     "output_type": "execute_result"
    }
   ],
   "source": [
    "len(set(df.link_id))"
   ]
  },
  {
   "cell_type": "code",
   "execution_count": 35,
   "metadata": {},
   "outputs": [
    {
     "name": "stdout",
     "output_type": "stream",
     "text": [
      "(4234970, 10)\n"
     ]
    },
    {
     "data": {
      "text/html": [
       "<div>\n",
       "<style scoped>\n",
       "    .dataframe tbody tr th:only-of-type {\n",
       "        vertical-align: middle;\n",
       "    }\n",
       "\n",
       "    .dataframe tbody tr th {\n",
       "        vertical-align: top;\n",
       "    }\n",
       "\n",
       "    .dataframe thead th {\n",
       "        text-align: right;\n",
       "    }\n",
       "</style>\n",
       "<table border=\"1\" class=\"dataframe\">\n",
       "  <thead>\n",
       "    <tr style=\"text-align: right;\">\n",
       "      <th></th>\n",
       "      <th>0</th>\n",
       "      <th>1</th>\n",
       "      <th>2</th>\n",
       "      <th>3</th>\n",
       "      <th>4</th>\n",
       "    </tr>\n",
       "  </thead>\n",
       "  <tbody>\n",
       "    <tr>\n",
       "      <td>created_utc</td>\n",
       "      <td>1430438400</td>\n",
       "      <td>1430438400</td>\n",
       "      <td>1430438400</td>\n",
       "      <td>1430438401</td>\n",
       "      <td>1430438401</td>\n",
       "    </tr>\n",
       "    <tr>\n",
       "      <td>ups</td>\n",
       "      <td>3</td>\n",
       "      <td>3</td>\n",
       "      <td>5</td>\n",
       "      <td>1</td>\n",
       "      <td>101</td>\n",
       "    </tr>\n",
       "    <tr>\n",
       "      <td>subreddit_id</td>\n",
       "      <td>t5_2qh1i</td>\n",
       "      <td>t5_2qh1i</td>\n",
       "      <td>t5_2qh1i</td>\n",
       "      <td>t5_2qh1i</td>\n",
       "      <td>t5_2qh1i</td>\n",
       "    </tr>\n",
       "    <tr>\n",
       "      <td>link_id</td>\n",
       "      <td>t3_34f9rh</td>\n",
       "      <td>t3_34fvry</td>\n",
       "      <td>t3_34ffo5</td>\n",
       "      <td>t3_34aqsn</td>\n",
       "      <td>t3_34f9rh</td>\n",
       "    </tr>\n",
       "    <tr>\n",
       "      <td>name</td>\n",
       "      <td>t1_cqug90j</td>\n",
       "      <td>t1_cqug90k</td>\n",
       "      <td>t1_cqug90z</td>\n",
       "      <td>t1_cqug91c</td>\n",
       "      <td>t1_cqug91e</td>\n",
       "    </tr>\n",
       "    <tr>\n",
       "      <td>subreddit</td>\n",
       "      <td>AskReddit</td>\n",
       "      <td>AskReddit</td>\n",
       "      <td>AskReddit</td>\n",
       "      <td>AskReddit</td>\n",
       "      <td>AskReddit</td>\n",
       "    </tr>\n",
       "    <tr>\n",
       "      <td>id</td>\n",
       "      <td>cqug90j</td>\n",
       "      <td>cqug90k</td>\n",
       "      <td>cqug90z</td>\n",
       "      <td>cqug91c</td>\n",
       "      <td>cqug91e</td>\n",
       "    </tr>\n",
       "    <tr>\n",
       "      <td>author</td>\n",
       "      <td>jesse9o3</td>\n",
       "      <td>beltfedshooter</td>\n",
       "      <td>InterimFatGuy</td>\n",
       "      <td>JuanTutrego</td>\n",
       "      <td>dcblackbelt</td>\n",
       "    </tr>\n",
       "    <tr>\n",
       "      <td>body</td>\n",
       "      <td>No one has a European accent either  because it doesn't exist. There are accents from Europe but...</td>\n",
       "      <td>That the kid ..reminds me of Kevin.   so sad :-(</td>\n",
       "      <td>NSFL</td>\n",
       "      <td>I'm a guy and I had no idea this was a thing guys did.</td>\n",
       "      <td>Mid twenties male rocking skinny jeans/pants, have a styled hair cut, and generally make a stron...</td>\n",
       "    </tr>\n",
       "    <tr>\n",
       "      <td>parent_id</td>\n",
       "      <td>t1_cqug2sr</td>\n",
       "      <td>t3_34fvry</td>\n",
       "      <td>t1_cqu80zb</td>\n",
       "      <td>t1_cqtdj4m</td>\n",
       "      <td>t1_cquc4rc</td>\n",
       "    </tr>\n",
       "  </tbody>\n",
       "</table>\n",
       "</div>"
      ],
      "text/plain": [
       "                                                                                                                0  \\\n",
       "created_utc                                                                                            1430438400   \n",
       "ups                                                                                                             3   \n",
       "subreddit_id                                                                                             t5_2qh1i   \n",
       "link_id                                                                                                 t3_34f9rh   \n",
       "name                                                                                                   t1_cqug90j   \n",
       "subreddit                                                                                               AskReddit   \n",
       "id                                                                                                        cqug90j   \n",
       "author                                                                                                   jesse9o3   \n",
       "body          No one has a European accent either  because it doesn't exist. There are accents from Europe but...   \n",
       "parent_id                                                                                              t1_cqug2sr   \n",
       "\n",
       "                                                             1              2  \\\n",
       "created_utc                                         1430438400     1430438400   \n",
       "ups                                                          3              5   \n",
       "subreddit_id                                          t5_2qh1i       t5_2qh1i   \n",
       "link_id                                              t3_34fvry      t3_34ffo5   \n",
       "name                                                t1_cqug90k     t1_cqug90z   \n",
       "subreddit                                            AskReddit      AskReddit   \n",
       "id                                                     cqug90k        cqug90z   \n",
       "author                                          beltfedshooter  InterimFatGuy   \n",
       "body          That the kid ..reminds me of Kevin.   so sad :-(           NSFL   \n",
       "parent_id                                            t3_34fvry     t1_cqu80zb   \n",
       "\n",
       "                                                                   3  \\\n",
       "created_utc                                               1430438401   \n",
       "ups                                                                1   \n",
       "subreddit_id                                                t5_2qh1i   \n",
       "link_id                                                    t3_34aqsn   \n",
       "name                                                      t1_cqug91c   \n",
       "subreddit                                                  AskReddit   \n",
       "id                                                           cqug91c   \n",
       "author                                                   JuanTutrego   \n",
       "body          I'm a guy and I had no idea this was a thing guys did.   \n",
       "parent_id                                                 t1_cqtdj4m   \n",
       "\n",
       "                                                                                                                4  \n",
       "created_utc                                                                                            1430438401  \n",
       "ups                                                                                                           101  \n",
       "subreddit_id                                                                                             t5_2qh1i  \n",
       "link_id                                                                                                 t3_34f9rh  \n",
       "name                                                                                                   t1_cqug91e  \n",
       "subreddit                                                                                               AskReddit  \n",
       "id                                                                                                        cqug91e  \n",
       "author                                                                                                dcblackbelt  \n",
       "body          Mid twenties male rocking skinny jeans/pants, have a styled hair cut, and generally make a stron...  \n",
       "parent_id                                                                                              t1_cquc4rc  "
      ]
     },
     "execution_count": 35,
     "metadata": {},
     "output_type": "execute_result"
    }
   ],
   "source": [
    "print(df.shape)\n",
    "df.head().T"
   ]
  },
  {
   "cell_type": "markdown",
   "metadata": {},
   "source": [
    "- **created_utc**: The time of creation in UTC epoch-second format. Note that neither of these ever have a non-zero fraction.\n",
    "- **ups**: The number of upvotes. (includes own) It is the attribute to be predicted.\n",
    "- **subreddit_id**: The id of the subreddit in which the thing is located\n",
    "- **link_id**: ID of the link this comment is in\n",
    "- **name**: Fullname of comment, e.g.\\t1_c3v7f8u\"\n",
    "- **subreddit**: Subreddit of thing excluding the /r/ pre\f",
    "x. \\pics\"\n",
    "- **id**: This item's identi\f",
    "fier, e.g. \\8xwlg\"\n",
    "- **author**: The account name of the poster\n",
    "- **body**: The raw text, this is the unformatted text which includes the raw markup characters such as ** for bold. (<, >, and & are escaped)\n",
    "- **parent_id**: ID of the thing this comment is a reply to, either the link or comment in it"
   ]
  },
  {
   "cell_type": "markdown",
   "metadata": {},
   "source": [
    "## Cleaning the data"
   ]
  },
  {
   "cell_type": "markdown",
   "metadata": {},
   "source": [
    "#### Removing some columns"
   ]
  },
  {
   "cell_type": "code",
   "execution_count": 36,
   "metadata": {},
   "outputs": [
    {
     "name": "stdout",
     "output_type": "stream",
     "text": [
      "Subreddits: {'AskReddit'}\n",
      "Subreddit ids: {'t5_2qh1i'}\n",
      "All columns belong to Askreddit subreddit, so we delete them.\n"
     ]
    }
   ],
   "source": [
    "print(\"Subreddits:\", set(df.subreddit))\n",
    "print(\"Subreddit ids:\", set(df.subreddit_id))\n",
    "print(\"All columns belong to Askreddit subreddit, so we delete them.\")\n",
    "df.drop(['subreddit_id', 'subreddit'], axis=1, inplace=True)"
   ]
  },
  {
   "cell_type": "code",
   "execution_count": 74,
   "metadata": {},
   "outputs": [
    {
     "name": "stdout",
     "output_type": "stream",
     "text": [
      "% of missing values per variable:\n",
      "created_utc     0.0\n",
      "ups            24.0\n",
      "link_id         0.0\n",
      "name            0.0\n",
      "id              0.0\n",
      "author          0.0\n",
      "body            0.0\n",
      "parent_id       0.0\n",
      "dtype: float64\n"
     ]
    }
   ],
   "source": [
    "print('% of missing values per variable:')\n",
    "print(round(df.isna().sum() / len(df) * 100, 2))"
   ]
  },
  {
   "cell_type": "code",
   "execution_count": 75,
   "metadata": {},
   "outputs": [
    {
     "name": "stdout",
     "output_type": "stream",
     "text": [
      "% of null values per variable:\n",
      "created_utc     0.0\n",
      "ups            24.0\n",
      "link_id         0.0\n",
      "name            0.0\n",
      "id              0.0\n",
      "author          0.0\n",
      "body            0.0\n",
      "parent_id       0.0\n",
      "dtype: float64\n"
     ]
    }
   ],
   "source": [
    "print('% of null values per variable:')\n",
    "print(round(df.isnull().sum() / len(df) * 100, 2))"
   ]
  },
  {
   "cell_type": "markdown",
   "metadata": {},
   "source": [
    "It's normal to have null/missing values for ups, as this is the test set"
   ]
  },
  {
   "cell_type": "markdown",
   "metadata": {},
   "source": [
    "#### Removing some rows"
   ]
  },
  {
   "cell_type": "code",
   "execution_count": 37,
   "metadata": {},
   "outputs": [
    {
     "name": "stdout",
     "output_type": "stream",
     "text": [
      "train length: 3218512 (76.0%)\n",
      "test length: 1016458 (24.0%)\n"
     ]
    }
   ],
   "source": [
    "# Split into train and test sets (because we only want to remove rows from the train set)\n",
    "mask = df.ups.isnull()\n",
    "train = df[~mask]\n",
    "test = df[mask]\n",
    "print(f'train length: {len(train)} ({round(len(train)/len(df) * 100, 2)}%)')\n",
    "print(f'test length: {len(test)} ({round(len(test)/len(df) * 100, 2)}%)')"
   ]
  },
  {
   "cell_type": "markdown",
   "metadata": {},
   "source": [
    "#### body\n",
    "\n",
    "Let's remove the comments that were deleted/removed"
   ]
  },
  {
   "cell_type": "code",
   "execution_count": 38,
   "metadata": {},
   "outputs": [
    {
     "name": "stdout",
     "output_type": "stream",
     "text": [
      "12 rows were removed (0.0 %)\n"
     ]
    }
   ],
   "source": [
    "init = len(train)\n",
    "train = train[train.body != '']\n",
    "train = train[train.body != '[removed]']\n",
    "# train = train[train.body != '[deleted]']\n",
    "print(f'{init - len(train)} rows were removed ({round((init - len(train))/init * 100,2)} %)')\n",
    "\n",
    "train.reset_index(inplace=True, drop=True)"
   ]
  },
  {
   "cell_type": "code",
   "execution_count": 78,
   "metadata": {},
   "outputs": [
    {
     "name": "stdout",
     "output_type": "stream",
     "text": [
      "The test set contains 0 rows where body is empty (0.0 %)\n",
      "The test set contains 0 rows where body was removed (0.0 %)\n",
      "The test set contains 59207 rows where body was deleted (5.82 %)\n",
      "We can't remove them for Kaggle prediction.\n"
     ]
    }
   ],
   "source": [
    "empty_in_test = len(test[test.body == ''])\n",
    "print(f\"The test set contains {empty_in_test} rows where body is empty ({round(empty_in_test/len(test) * 100,2)} %)\")\n",
    "removed_in_test = len(test[test.body == '[removed]'])\n",
    "print(f\"The test set contains {removed_in_test} rows where body was removed ({round(removed_in_test/len(test) * 100,2)} %)\")\n",
    "deleted_in_test = len(test[test.body == '[deleted]'])\n",
    "print(f\"The test set contains {deleted_in_test} rows where body was deleted ({round(deleted_in_test/len(test) * 100,2)} %)\")\n",
    "print(\"We can't remove them for Kaggle prediction.\")"
   ]
  },
  {
   "cell_type": "markdown",
   "metadata": {},
   "source": [
    "#### author\n",
    "\n",
    "Let's remove the unknown authors and AutoModerators"
   ]
  },
  {
   "cell_type": "code",
   "execution_count": 39,
   "metadata": {},
   "outputs": [
    {
     "name": "stdout",
     "output_type": "stream",
     "text": [
      "0 rows were removed (0.0 %)\n"
     ]
    }
   ],
   "source": [
    "init = len(train)\n",
    "# train = train[train.author != '[deleted]']\n",
    "# train = train[train.author != 'AutoModerator']\n",
    "print(f'{init - len(train)} rows were removed ({round((init - len(train))/init * 100,2)} %)')\n",
    "\n",
    "train.reset_index(inplace=True, drop=True)"
   ]
  },
  {
   "cell_type": "code",
   "execution_count": 80,
   "metadata": {},
   "outputs": [
    {
     "name": "stdout",
     "output_type": "stream",
     "text": [
      "The test set contains 8190 rows where author is AutoModerator (0.81 %)\n",
      "The test set contains 62620 rows where author was deleted (6.16 %)\n",
      "We can't remove them for Kaggle prediction.\n"
     ]
    }
   ],
   "source": [
    "autom_in_test = len(test[test.author == 'AutoModerator'])\n",
    "print(f\"The test set contains {autom_in_test} rows where author is AutoModerator ({round(autom_in_test/len(test) * 100,2)} %)\")\n",
    "deleted_in_test = len(test[test.author == '[deleted]'])\n",
    "print(f\"The test set contains {deleted_in_test} rows where author was deleted ({round(deleted_in_test/len(test) * 100,2)} %)\")\n",
    "print(\"We can't remove them for Kaggle prediction.\")"
   ]
  },
  {
   "cell_type": "code",
   "execution_count": 40,
   "metadata": {},
   "outputs": [],
   "source": [
    "# Reconcatenating\n",
    "df = pd.concat([train, test], ignore_index=True)"
   ]
  },
  {
   "cell_type": "code",
   "execution_count": 41,
   "metadata": {},
   "outputs": [
    {
     "data": {
      "text/plain": [
       "4234958"
      ]
     },
     "execution_count": 41,
     "metadata": {},
     "output_type": "execute_result"
    }
   ],
   "source": [
    "len(df)"
   ]
  },
  {
   "cell_type": "markdown",
   "metadata": {},
   "source": [
    "## Preliminaries"
   ]
  },
  {
   "cell_type": "code",
   "execution_count": 17,
   "metadata": {},
   "outputs": [
    {
     "name": "stdout",
     "output_type": "stream",
     "text": [
      "On average a thread (a discussion) has 28.45 comments.\n",
      "The average number of comments per author is 7.42\n"
     ]
    }
   ],
   "source": [
    "# Basic statistics\n",
    "print(\"On average a thread (a discussion) has\", round(len(df) / len(set(df.link_id)), 2), \"comments.\")\n",
    "print(\"The average number of comments per author is\", round(len(df) / len(set(df.author)), 2))"
   ]
  },
  {
   "cell_type": "code",
   "execution_count": 18,
   "metadata": {},
   "outputs": [
    {
     "name": "stdout",
     "output_type": "stream",
     "text": [
      "There are 148847 unique link_ids.\n",
      "There are 0 comments that have no parent_id and so are not a reply\n"
     ]
    }
   ],
   "source": [
    "# Structure\n",
    "print(\"There are\", len(set(df.link_id)), \"unique link_ids.\")\n",
    "print(\"There are\", len(df[df.parent_id == None]), \"comments that have no parent_id and so are not a reply\")"
   ]
  },
  {
   "cell_type": "code",
   "execution_count": 42,
   "metadata": {},
   "outputs": [
    {
     "name": "stdout",
     "output_type": "stream",
     "text": [
      "created_utc      int64\n",
      "ups            float64\n",
      "link_id         object\n",
      "name            object\n",
      "id              object\n",
      "author          object\n",
      "body            object\n",
      "parent_id       object\n",
      "dtype: object\n"
     ]
    }
   ],
   "source": [
    "# Types\n",
    "df['body'] = df['body'].astype(str)\n",
    "\n",
    "print(df.dtypes)"
   ]
  },
  {
   "cell_type": "markdown",
   "metadata": {},
   "source": [
    "## Feature engineering"
   ]
  },
  {
   "cell_type": "code",
   "execution_count": 43,
   "metadata": {},
   "outputs": [],
   "source": [
    "def parallel_processing(df, func, splitting_field = 'random', func_outputs_df = True):\n",
    "    \"\"\"Applies operations in parallel\"\"\"\n",
    "    num_cores = 3\n",
    "    \n",
    "    if splitting_field == 'random':\n",
    "        print('Splitting the dataframe into 100 equal parts. This should be instantaneous.')\n",
    "        num_partitions = 100\n",
    "        df_split = np.array_split(df, num_partitions)\n",
    "    else:\n",
    "        print(f'Splitting the dataframe by {splitting_field}. This can take several minutes...')\n",
    "        df_split = [df_i.reset_index(drop=True) for _, df_i in df.groupby(df[splitting_field])]\n",
    "        \n",
    "    num_tasks = len(df_split)\n",
    "    \n",
    "    print(\"Parallel processing starts!\")\n",
    "    pool = Pool(num_cores)\n",
    "    results = []\n",
    "    for i, _ in enumerate(pool.imap_unordered(func, df_split), 1):\n",
    "        sys.stderr.write('\\rdone {0:%}'.format(i / num_tasks))\n",
    "        results.append(_)\n",
    "    \n",
    "    pool.close()\n",
    "    pool.join()\n",
    "    \n",
    "    if func_outputs_df == False :\n",
    "        print('Appending everything in a single list')\n",
    "        final_results = [j for i in results if len(i) > 0 for j in i]\n",
    "        \n",
    "        print(\"Done!\")\n",
    "        return(final_results)\n",
    "    else:\n",
    "        print(\"Concatenating everything in our single dataframe...\")\n",
    "        df = pd.concat(results)\n",
    "        df.reset_index(inplace=True, drop=True)\n",
    "    \n",
    "    print(\"Done!\")\n",
    "    return(df)"
   ]
  },
  {
   "cell_type": "markdown",
   "metadata": {},
   "source": [
    "## Content Based Features\n",
    "\n",
    "- **nb_linked_sr**: number of mentionned subreddits in a comment\n",
    "- **subjectivity**: number of 'I 's in a comment\n",
    "- **exclamation**: number of exclamation marks \"!\" in a comment\n",
    "- **nb_urls**: number of urls mentionned in a comment\n",
    "- **nb_pop_urls**: number of popular urls mentionned in a comment (see definition of popular below)\n",
    "- **word_count**: number of words in a comment\n",
    "- **vocabulary_richness**: measure for lexical richness\n",
    "- **is_quoting**: boolean to indicate if the comment is quoting another comment\n",
    "- **nb_emojis**: number of emojis in the comment"
   ]
  },
  {
   "cell_type": "markdown",
   "metadata": {},
   "source": [
    "#### nb_linked_sr"
   ]
  },
  {
   "cell_type": "code",
   "execution_count": 21,
   "metadata": {},
   "outputs": [],
   "source": [
    "def get_nb_linked_sr(df):\n",
    "    # When a subreddit is mentionned, it appears under the form '/r/' followed by its title\n",
    "    df['nb_linked_sr'] = df.body.apply(lambda x: len(re.findall(r\"/r/([^\\s/]+)\", str(x)))) # extracts\n",
    "    df['body'] = df.body.apply(lambda x: re.sub(r\"(/r/[^\\s/]+)\", '', str(x))) # removes subreddits\n",
    "    print(f'We found {sum(df.nb_linked_sr)} subreddits in total.')\n",
    "    \n",
    "    return(df)"
   ]
  },
  {
   "cell_type": "code",
   "execution_count": 22,
   "metadata": {},
   "outputs": [
    {
     "name": "stdout",
     "output_type": "stream",
     "text": [
      "We found 202094 subreddits in total.\n"
     ]
    }
   ],
   "source": [
    "df = get_nb_linked_sr(df)"
   ]
  },
  {
   "cell_type": "markdown",
   "metadata": {},
   "source": [
    "#### subjectivity"
   ]
  },
  {
   "cell_type": "code",
   "execution_count": 23,
   "metadata": {},
   "outputs": [],
   "source": [
    "def get_subjectivity(df):\n",
    "    df['subjectivity'] = df['body'].str.count('I ')\n",
    "    print(f\"We found {sum(df.subjectivity)} I's in comments.\")\n",
    "    return(df)"
   ]
  },
  {
   "cell_type": "code",
   "execution_count": 24,
   "metadata": {},
   "outputs": [
    {
     "name": "stdout",
     "output_type": "stream",
     "text": [
      "We found 2884138 I's in comments.\n"
     ]
    }
   ],
   "source": [
    "df = get_subjectivity(df)"
   ]
  },
  {
   "cell_type": "markdown",
   "metadata": {},
   "source": [
    "#### exclamation"
   ]
  },
  {
   "cell_type": "code",
   "execution_count": 25,
   "metadata": {},
   "outputs": [],
   "source": [
    "def get_exclamation(df):\n",
    "    df['exclamation'] = df['body'].str.count('!')\n",
    "    print(f\"We found {sum(df.exclamation)} exclamation marks in all comments.\")\n",
    "    return(df)"
   ]
  },
  {
   "cell_type": "code",
   "execution_count": 26,
   "metadata": {},
   "outputs": [
    {
     "name": "stdout",
     "output_type": "stream",
     "text": [
      "We found 533566 exclamation marks in all comments.\n"
     ]
    }
   ],
   "source": [
    "df = get_exclamation(df)"
   ]
  },
  {
   "cell_type": "markdown",
   "metadata": {},
   "source": [
    "#### nb_urls"
   ]
  },
  {
   "cell_type": "code",
   "execution_count": 27,
   "metadata": {},
   "outputs": [],
   "source": [
    "# Retrieving sites from urls (urls identification)\n",
    "\n",
    "url_regex = r'http[s]?://(?:[a-zA-Z]|[0-9]|[$-_@.&+]|[!*\\(\\),]|(?:%[0-9a-fA-F][0-9a-fA-F]))+'\n",
    "\n",
    "def extract_site(x):\n",
    "    \"\"\"\n",
    "    Extracts a list of sites, each retrieved from its url, from a given comment x\"\"\"\n",
    "    \n",
    "    # Removing spaces around signs\n",
    "    x = x.replace(' = ', '=')\n",
    "    x = x.replace(' : ', ':')\n",
    "    x = x.replace(' / ', '?')\n",
    "    urls = re.findall(url_regex, x)\n",
    "    sites = []\n",
    "    for url in urls:\n",
    "        try:\n",
    "            tmp = urlparse(url).netloc.split('.')\n",
    "            if 'youtu' in tmp:\n",
    "                sites.append('youtube')\n",
    "            elif 'com' in tmp:\n",
    "                sites.append(tmp[tmp.index('com') - 1])\n",
    "            elif 'www' in tmp:\n",
    "                sites.append(tmp[tmp.index('www') + 1])\n",
    "            else:\n",
    "                sites.append(tmp[-2])\n",
    "        except:\n",
    "            return []\n",
    "    \n",
    "    return(sites)\n",
    "\n",
    "\n",
    "def get_linked_urls(df):\n",
    "    \"\"\" \n",
    "    Returns df with an extra column (linked_urls) with a list mentionned of sites\"\"\"\n",
    "    \n",
    "    df['linked_urls'] = df.body.apply(lambda x: extract_site(str(x)))\n",
    "    return(df)\n",
    "\n",
    "\n",
    "def get_nb_urls(df):\n",
    "    df['nb_urls'] = df['linked_urls'].apply(lambda x: len(x))\n",
    "    \n",
    "    return(df)"
   ]
  },
  {
   "cell_type": "code",
   "execution_count": 28,
   "metadata": {},
   "outputs": [],
   "source": [
    "df = get_linked_urls(df)"
   ]
  },
  {
   "cell_type": "code",
   "execution_count": 29,
   "metadata": {
    "scrolled": true
   },
   "outputs": [],
   "source": [
    "df = get_nb_urls(df)"
   ]
  },
  {
   "cell_type": "markdown",
   "metadata": {},
   "source": [
    "#### nb_pop_urls"
   ]
  },
  {
   "cell_type": "code",
   "execution_count": 30,
   "metadata": {},
   "outputs": [],
   "source": [
    "def find_most_popular_sites(df):\n",
    "    \"\"\"Gets the list of popular urls.\n",
    "    Popular means that the url is among the 25% most frequently mentionned urls\"\"\"\n",
    "    \n",
    "    # From list of lists to single list containing everything\n",
    "    flatten = lambda l: [item for sublist in l for item in sublist]\n",
    "    list_urls = df.linked_urls\n",
    "    list_urls = flatten(list_urls)\n",
    "    list_urls = pd.DataFrame(list_urls)\n",
    "    list_urls.columns = [\"urls\"]\n",
    "\n",
    "    list_urls = list_urls.urls.value_counts().index.tolist()\n",
    "\n",
    "    # position of 1st quartile (25% of the urls)\n",
    "    q1 = math.ceil(len(list_urls)/4)\n",
    "\n",
    "    # get the list of the 25% most popular urls\n",
    "    top_list_urls = list_urls[:q1]\n",
    "    print(\"We retrieved a list of the\", len(top_list_urls), 'most popular sites.')\n",
    "    print('The top 10 is:', top_list_urls[:10])\n",
    "    \n",
    "    return(top_list_urls)"
   ]
  },
  {
   "cell_type": "code",
   "execution_count": 31,
   "metadata": {
    "scrolled": true
   },
   "outputs": [
    {
     "name": "stdout",
     "output_type": "stream",
     "text": [
      "We retrieved a list of the 4190 most popular sites.\n",
      "The top 10 is: ['reddit', 'youtube', 'wikipedia', 'imgur', 'google', 'imdb', 'wordpress', 'tumblr', 'xkcd', 'wikimedia']\n"
     ]
    }
   ],
   "source": [
    "top_list_urls = find_most_popular_sites(df)"
   ]
  },
  {
   "cell_type": "code",
   "execution_count": 32,
   "metadata": {},
   "outputs": [],
   "source": [
    "def get_nb_pop_urls(df):\n",
    "    \"\"\"Among the urls cited in a comment, how many are popular\"\"\"\n",
    "    unique_top = set(top_list_urls)\n",
    "    nb_pop_urls = []\n",
    "    for i in tqdm(range(len(df))):\n",
    "        nb_pop_urls.append(len(set(df.loc[i, 'linked_urls']) & unique_top))\n",
    "        #nb_pop_urls.append(len([el for el in df.loc[i, 'linked_urls'] if el in top_list_urls]))\n",
    "    \n",
    "    df[\"nb_pop_urls\"] = nb_pop_urls\n",
    "    print(\"Done!\")\n",
    "    \n",
    "    del df['linked_urls']\n",
    "      \n",
    "    return(df)"
   ]
  },
  {
   "cell_type": "code",
   "execution_count": 33,
   "metadata": {},
   "outputs": [
    {
     "name": "stderr",
     "output_type": "stream",
     "text": [
      "100%|██████████| 4234958/4234958 [01:22<00:00, 51475.34it/s]\n"
     ]
    },
    {
     "name": "stdout",
     "output_type": "stream",
     "text": [
      "Done!\n"
     ]
    }
   ],
   "source": [
    "df = get_nb_pop_urls(df)"
   ]
  },
  {
   "cell_type": "code",
   "execution_count": 34,
   "metadata": {},
   "outputs": [],
   "source": [
    "def remove_urls(x):\n",
    "    x = x.replace(' = ', '=')\n",
    "    x = x.replace(' : ', ':')\n",
    "    x = x.replace(' / ', '?')\n",
    "    return(re.sub(url_regex, '', x))\n",
    "\n",
    "df['body'] = df.body.apply(lambda x: remove_urls(str(x)))"
   ]
  },
  {
   "cell_type": "markdown",
   "metadata": {},
   "source": [
    "#### word_count"
   ]
  },
  {
   "cell_type": "code",
   "execution_count": 35,
   "metadata": {},
   "outputs": [],
   "source": [
    "def get_word_count(df):\n",
    "    df['word_count'] = df.body.apply(lambda x: len(str(x).split()))\n",
    "    return(df)"
   ]
  },
  {
   "cell_type": "code",
   "execution_count": 36,
   "metadata": {},
   "outputs": [],
   "source": [
    "df = get_word_count(df)"
   ]
  },
  {
   "cell_type": "markdown",
   "metadata": {},
   "source": [
    "#### vocabulary_richness"
   ]
  },
  {
   "cell_type": "code",
   "execution_count": 37,
   "metadata": {},
   "outputs": [],
   "source": [
    "def compute_vocabulary_richness(comment_body):\n",
    "    \"\"\"Returns a measure of lexical richness of a list of words based on Yule's I measure (the inverse of Yule's K)\"\"\"\n",
    "    word_list = comment_body.split()\n",
    "    word_frequencies = {}\n",
    "    for w in word_list:\n",
    "        try:\n",
    "            word_frequencies[w] += 1\n",
    "        except KeyError:\n",
    "            word_frequencies[w] = 1\n",
    "    \n",
    "    measure1 = float(len(word_frequencies))\n",
    "    measure2 = sum([len(list(g))*(freq**2) for freq,g in groupby(sorted(word_frequencies.values()))])\n",
    "    \n",
    "    # measure1 is the unique number of words\n",
    "    # measure2 is the sum of the products of each observed frequency to the power of two (freq**2)\n",
    "    # and the number of words observed with that frequency len(list(g))\n",
    "    \n",
    "    try:\n",
    "        return(round((measure1**2) / (measure2-measure1), 2))\n",
    "    except ZeroDivisionError:\n",
    "        return(0)"
   ]
  },
  {
   "cell_type": "code",
   "execution_count": 38,
   "metadata": {},
   "outputs": [],
   "source": [
    "def get_vocabulary_richness(df):\n",
    "    #vocabulary_richness = []\n",
    "    #vocabulary_richness = [compute_vocabulary_richness(i) for i in list_tokens]\n",
    "    #df['vocabulary_richness'] = vocabulary_richness\n",
    "    df['vocabulary_richness'] = df.body.apply(lambda x: compute_vocabulary_richness(x))\n",
    "    return(df)"
   ]
  },
  {
   "cell_type": "code",
   "execution_count": 39,
   "metadata": {},
   "outputs": [],
   "source": [
    "df = get_vocabulary_richness(df)"
   ]
  },
  {
   "cell_type": "markdown",
   "metadata": {},
   "source": [
    "#### is_quoting"
   ]
  },
  {
   "cell_type": "code",
   "execution_count": 40,
   "metadata": {},
   "outputs": [],
   "source": [
    "def get_nb_linked_sr(df):\n",
    "    # When a comment is mentionning another comment, the reference is under the form '&gt;'\n",
    "    df['is_quoting'] = df.body.str.contains('&gt;').astype(int) # extracts\n",
    "    df['body'] = df.body.apply(lambda x: str(x).replace('&gt;', '')) # removes\n",
    "    print(f'We found {sum(df.is_quoting)} quotations in total.')\n",
    "    \n",
    "    return(df)"
   ]
  },
  {
   "cell_type": "code",
   "execution_count": 41,
   "metadata": {},
   "outputs": [
    {
     "name": "stdout",
     "output_type": "stream",
     "text": [
      "We found 70864 quotations in total.\n"
     ]
    }
   ],
   "source": [
    "df = get_nb_linked_sr(df)"
   ]
  },
  {
   "cell_type": "markdown",
   "metadata": {},
   "source": [
    "#### nb_emojis"
   ]
  },
  {
   "cell_type": "code",
   "execution_count": 42,
   "metadata": {},
   "outputs": [],
   "source": [
    "def get_nb_emojis(df):\n",
    "    df['nb_emojis'] = df.body.apply(lambda x: len([i for i in str(x).split() if i in UNICODE_EMOJI]))\n",
    "    return(df)"
   ]
  },
  {
   "cell_type": "code",
   "execution_count": 43,
   "metadata": {},
   "outputs": [
    {
     "name": "stdout",
     "output_type": "stream",
     "text": [
      "Splitting the dataframe into 100 equal parts. This should be instantaneous.\n",
      "Parallel processing starts!\n"
     ]
    },
    {
     "name": "stderr",
     "output_type": "stream",
     "text": [
      "done 100.000000%"
     ]
    },
    {
     "name": "stdout",
     "output_type": "stream",
     "text": [
      "Concatenating everything in our single dataframe...\n",
      "Done!\n",
      "We found 4390 on the whole set of comments\n"
     ]
    }
   ],
   "source": [
    "df = parallel_processing(df, get_nb_emojis)\n",
    "print(f\"We found {sum(df.nb_emojis)} on the whole set of comments\")"
   ]
  },
  {
   "cell_type": "markdown",
   "metadata": {},
   "source": [
    "## Text mining Based features\n",
    "\n",
    "- **token_i**: boolean to indicate if comment contains token_i (adds multiple columns) "
   ]
  },
  {
   "cell_type": "code",
   "execution_count": 44,
   "metadata": {},
   "outputs": [],
   "source": [
    "# Tokenize \n",
    "def tokenize_comment(df):\n",
    "    \"\"\"Returns a list of tokenized comments\"\"\"\n",
    "    tokens = [tokenize.word_tokenize(s) for s in df.body]\n",
    "    return(tokens)\n",
    "\n",
    "\n",
    "# Put to lower cases and remove punctuation\n",
    "def lower_no_punctuation(list_tokens):\n",
    "    tokens_no_punct_lower = []\n",
    "    for s in list_tokens: \n",
    "        tokens_no_punct_lower.append([w.lower() for w in s if w.isalpha()])\n",
    "    return(tokens_no_punct_lower)\n",
    "\n",
    "\n",
    "# Remove stop words\n",
    "stop_words = stopwords.words('english')\n",
    "stop_words.extend([\"ca\",\"http\"])\n",
    "def no_stop_words(list_tokens):    \n",
    "    tokens_no_stop_word = []\n",
    "    for elt in list_tokens: \n",
    "        tokens_no_stop_word.append([tok for tok in elt if tok not in stop_words])\n",
    "    return(tokens_no_stop_word)\n",
    "\n",
    "\n",
    "# Correct spelling\n",
    "def reduce_lengthening(text):\n",
    "    \"\"\"Ex: skiiin => skin\"\"\"\n",
    "    pattern = re.compile(r\"(.)\\1{2,}\")\n",
    "    return pattern.sub(r\"\\1\\1\", text)\n",
    "\n",
    "\n",
    "def correct_spelling(list_tokens):\n",
    "    spell = SpellChecker()\n",
    "    tokens_corrected = []\n",
    "    for elt in list_tokens: \n",
    "        tokens_corrected.append([reduce_lengthening(word) for word in elt])\n",
    "    return(tokens_corrected)\n",
    "\n",
    "\n",
    "# Lemmatize\n",
    "def lemmatize_tokens(list_tokens):\n",
    "    lemmatizer = WordNetLemmatizer() \n",
    "    tokens_lem = []\n",
    "    for elt in list_tokens: \n",
    "        tokens_lem.append([lemmatizer.lemmatize(tok) for tok in elt])\n",
    "    return(tokens_lem)\n",
    "\n",
    "\n",
    "# Stem\n",
    "def stemming_tokens(list_tokens):\n",
    "    porter = PorterStemmer()\n",
    "    stemmed = []\n",
    "    for elt in list_tokens : \n",
    "        stemmed.append([porter.stem(tok) for tok in elt])\n",
    "    return(stemmed)\n",
    "\n",
    "\n",
    "# Back to strings\n",
    "def reverse_tokenize_sentence(sentence):\n",
    "    sentence_as_string = ''\n",
    "    for word in sentence:\n",
    "        sentence_as_string += word + ' '\n",
    "    return(sentence_as_string.strip())\n",
    "\n",
    "\n",
    "# Main function for cleaning tokens\n",
    "def main_cleaning(list_tokens):\n",
    "    list_tokens = lower_no_punctuation(list_tokens)\n",
    "    list_tokens = no_stop_words(list_tokens)\n",
    "    list_tokens = correct_spelling(list_tokens)\n",
    "    list_tokens = lemmatize_tokens(list_tokens)\n",
    "    list_tokens = stemming_tokens(list_tokens)\n",
    "    list_tokens = [reverse_tokenize_sentence(sentence) for sentence in list_tokens]\n",
    "    return(list_tokens)"
   ]
  },
  {
   "cell_type": "code",
   "execution_count": 45,
   "metadata": {},
   "outputs": [
    {
     "data": {
      "text/plain": [
       "(8327, 8)"
      ]
     },
     "execution_count": 45,
     "metadata": {},
     "output_type": "execute_result"
    }
   ],
   "source": [
    "# Apply transformations only on comments with ups > 1000 or ups < -100\n",
    "subdf = df[(df.ups > 1000) | (df.ups < -100)]\n",
    "subdf['body'].dropna(inplace=True)\n",
    "subdf.shape"
   ]
  },
  {
   "cell_type": "code",
   "execution_count": 46,
   "metadata": {},
   "outputs": [],
   "source": [
    "tokens_from_subdf = tokenize_comment(subdf)\n",
    "clean_subdf_body = main_cleaning(tokens_from_subdf)"
   ]
  },
  {
   "cell_type": "markdown",
   "metadata": {},
   "source": [
    "##### tf_idf"
   ]
  },
  {
   "cell_type": "code",
   "execution_count": 47,
   "metadata": {},
   "outputs": [
    {
     "data": {
      "text/plain": [
       "TfidfVectorizer(analyzer='word', binary=False, decode_error='strict',\n",
       "                dtype=<class 'numpy.float64'>, encoding='utf-8',\n",
       "                input='content', lowercase=True, max_df=0.5, max_features=25,\n",
       "                min_df=10, ngram_range=(1, 1), norm='l2', preprocessor=None,\n",
       "                smooth_idf=True, stop_words=None, strip_accents=None,\n",
       "                sublinear_tf=False, token_pattern='(?u)\\\\b\\\\w\\\\w+\\\\b',\n",
       "                tokenizer=None, use_idf=True, vocabulary=None)"
      ]
     },
     "execution_count": 47,
     "metadata": {},
     "output_type": "execute_result"
    }
   ],
   "source": [
    "tfidf_vectorizer = TfidfVectorizer(analyzer='word',\n",
    "                                   max_features=25, # maximum number of words kept per comment\n",
    "                                   max_df=0.5, # don't keep words which appear in more than 0.5 of the comments\n",
    "                                   min_df=10) # don't keep words which appear in less than 10 comments\n",
    "\n",
    "tfidf_vectorizer.fit(clean_subdf_body)"
   ]
  },
  {
   "cell_type": "code",
   "execution_count": 48,
   "metadata": {},
   "outputs": [],
   "source": [
    "list_tokens = tokenize_comment(df)"
   ]
  },
  {
   "cell_type": "code",
   "execution_count": 49,
   "metadata": {},
   "outputs": [
    {
     "data": {
      "text/plain": [
       "4234958"
      ]
     },
     "execution_count": 49,
     "metadata": {},
     "output_type": "execute_result"
    }
   ],
   "source": [
    "len(list_tokens)"
   ]
  },
  {
   "cell_type": "code",
   "execution_count": 50,
   "metadata": {},
   "outputs": [],
   "source": [
    "clean_body = pd.DataFrame(main_cleaning(list_tokens))"
   ]
  },
  {
   "cell_type": "code",
   "execution_count": 54,
   "metadata": {},
   "outputs": [
    {
     "data": {
      "text/plain": [
       "4234958"
      ]
     },
     "execution_count": 54,
     "metadata": {},
     "output_type": "execute_result"
    }
   ],
   "source": [
    "len(clean_body)"
   ]
  },
  {
   "cell_type": "code",
   "execution_count": 51,
   "metadata": {},
   "outputs": [],
   "source": [
    "clean_body.columns = ['body_cleansed']"
   ]
  },
  {
   "cell_type": "code",
   "execution_count": 52,
   "metadata": {},
   "outputs": [],
   "source": [
    "one_hundred_features = tfidf_vectorizer.transform(clean_body.body_cleansed).toarray()\n",
    "token_features = pd.DataFrame(one_hundred_features)\n",
    "token_features.columns = tfidf_vectorizer.get_feature_names()"
   ]
  },
  {
   "cell_type": "code",
   "execution_count": 61,
   "metadata": {},
   "outputs": [],
   "source": [
    "token_features[\"id\"] = df.id"
   ]
  },
  {
   "cell_type": "code",
   "execution_count": 62,
   "metadata": {},
   "outputs": [],
   "source": [
    "token_features.to_pickle(\"token_features.pkl\")"
   ]
  },
  {
   "cell_type": "markdown",
   "metadata": {},
   "source": [
    "## Sentiment Based Features\n",
    "- **senti_neg**: negative score of comment\n",
    "- **senti_neu**: neutral score of comment\n",
    "- **senti_pos**: positive score of comment\n",
    "- **senti_comp**: compound score of comment"
   ]
  },
  {
   "cell_type": "code",
   "execution_count": 10,
   "metadata": {},
   "outputs": [],
   "source": [
    "analyser = SentimentIntensityAnalyzer()"
   ]
  },
  {
   "cell_type": "code",
   "execution_count": 11,
   "metadata": {},
   "outputs": [],
   "source": [
    "def get_sentiments(df):\n",
    "    df['sentiment'] = df['body'].apply(lambda x: analyser.polarity_scores(x))\n",
    "    return df"
   ]
  },
  {
   "cell_type": "code",
   "execution_count": null,
   "metadata": {},
   "outputs": [
    {
     "name": "stdout",
     "output_type": "stream",
     "text": [
      "Splitting the dataframe into 100 equal parts. This should be instantaneous.\n",
      "Parallel processing starts!\n"
     ]
    }
   ],
   "source": [
    "# takes approx 15 mins\n",
    "sentiment = parallel_processing(df, get_sentiments)"
   ]
  },
  {
   "cell_type": "code",
   "execution_count": null,
   "metadata": {},
   "outputs": [],
   "source": [
    "df['senti_neg'] = sentiment['sentiment'].apply(lambda x: x['neg'])\n",
    "df['senti_neu'] = sentiment['sentiment'].apply(lambda x: x['neu'])\n",
    "df['senti_pos'] = sentiment['sentiment'].apply(lambda x: x['pos'])\n",
    "df['senti_comp'] = sentiment['sentiment'].apply(lambda x: x['compound'])\n",
    "del sentiment"
   ]
  },
  {
   "cell_type": "markdown",
   "metadata": {},
   "source": [
    "## Structural features\n",
    "- **nb_author_thread**: number of unique authors in the link_id of the comment (gives a sense of thread popularity)\n",
    "- **is_root**: whether or not the parent comment is a direct reply to the first comment of an Askreddit subreddit\n",
    "- **depth**: depth of a comment in a thread\n",
    "- **nb_neighbours**: degree (number of neighbours) of a comment in a thread\n",
    "- **author_centralities (3 measures)**: centrality metrics of the author (intuition: the more connected an author, the more important it is)\n",
    "- **nb_com_author**: number of comments per author (gives a sense of author activity)\n",
    "- **order_com**: the rank of the comment based on time\n",
    "- **parent_score**: the score of the parent of the comment"
   ]
  },
  {
   "cell_type": "markdown",
   "metadata": {},
   "source": [
    "#### nb_author_thread\n",
    "\n",
    "For the features to come, we will often need to get a dictionnary from two columns of our pandas DataFrame (one for the keys and the other for some aggregation of the values). Once we have it, we will try to get values based on keys from that dictionnary. Hence, this function will be handy:"
   ]
  },
  {
   "cell_type": "code",
   "execution_count": null,
   "metadata": {},
   "outputs": [],
   "source": [
    "def try_to_get_from_dico(dico, x):\n",
    "    try:\n",
    "        return dico[x]\n",
    "    except:\n",
    "        return np.nan"
   ]
  },
  {
   "cell_type": "code",
   "execution_count": null,
   "metadata": {},
   "outputs": [],
   "source": [
    "def get_nb_author_thread(df):\n",
    "    link_id_to_nbauthors = pd.Series(df.author.values, index=df.link_id).groupby(by=['link_id']).count().to_dict()\n",
    "    df['nb_author_thread'] = df.link_id.apply(lambda x: try_to_get_from_dico(link_id_to_nbauthors, x))\n",
    "    return(df)"
   ]
  },
  {
   "cell_type": "code",
   "execution_count": null,
   "metadata": {},
   "outputs": [],
   "source": [
    "df = get_nb_author_thread(df)"
   ]
  },
  {
   "cell_type": "markdown",
   "metadata": {},
   "source": [
    "#### is_root"
   ]
  },
  {
   "cell_type": "code",
   "execution_count": 46,
   "metadata": {},
   "outputs": [
    {
     "name": "stdout",
     "output_type": "stream",
     "text": [
      "We found 1702201 comments in the root in total (40.19%).\n"
     ]
    }
   ],
   "source": [
    "df['is_root'] = df.parent_id.str.startswith('t3_').astype(int)\n",
    "print(f'We found {sum(df.is_root)} comments in the root in total ({round(sum(df.is_root) / len(df) * 100, 2)}%).')"
   ]
  },
  {
   "cell_type": "markdown",
   "metadata": {},
   "source": [
    "#### depth and nb_neighbours"
   ]
  },
  {
   "cell_type": "code",
   "execution_count": 54,
   "metadata": {},
   "outputs": [],
   "source": [
    "def get_depth_and_nb_neighbours(df):\n",
    "    \"\"\"In order to get the depth and the number of neighbours of each comment of the dataframe, \n",
    "creates a network from it, where a node is a comment, and two nodes are connected if they have \n",
    "a parent-child relationship.\n",
    "\n",
    "    Parameters:\n",
    "    df (dataframe)   : dataframe\n",
    "\n",
    "    Returns:\n",
    "    df               : dataframe (with depth and nb_neighbours)\"\"\"\n",
    "    \n",
    "    g = nx.DiGraph()\n",
    "    g.add_nodes_from(df.link_id, type = \"link\")\n",
    "    g.add_nodes_from(df.name, type = \"comment\")\n",
    "    g.add_edges_from(df[[\"parent_id\", \"name\"]].values, linktype = \"parent\")\n",
    "    \n",
    "    df['nb_neighbours'] = [g.degree[n] for n in df['name']]\n",
    "    df['depth'] = [len(nx.ancestors(g, n)) for n in df['name']]\n",
    "    \n",
    "    return df"
   ]
  },
  {
   "cell_type": "code",
   "execution_count": 55,
   "metadata": {},
   "outputs": [
    {
     "name": "stderr",
     "output_type": "stream",
     "text": [
      "/Users/guillemforto/anaconda3/lib/python3.7/site-packages/networkx/drawing/nx_pylab.py:579: MatplotlibDeprecationWarning: \n",
      "The iterable function was deprecated in Matplotlib 3.1 and will be removed in 3.3. Use np.iterable instead.\n",
      "  if not cb.iterable(width):\n",
      "/Users/guillemforto/anaconda3/lib/python3.7/site-packages/networkx/drawing/nx_pylab.py:676: MatplotlibDeprecationWarning: \n",
      "The iterable function was deprecated in Matplotlib 3.1 and will be removed in 3.3. Use np.iterable instead.\n",
      "  if cb.iterable(node_size):  # many node sizes\n"
     ]
    },
    {
     "data": {
      "image/png": "[encoded data removed]",
      "text/plain": [
       "<Figure size 1008x1008 with 1 Axes>"
      ]
     },
     "metadata": {},
     "output_type": "display_data"
    }
   ],
   "source": [
    "# Plotting 200 nodes of the 1st layer (the comments that were replying to the original comment) of the 1st link_id\n",
    "\n",
    "# subset\n",
    "small_df = df[df.link_id == df.link_id[0]]\n",
    "small_df.reset_index(drop=True, inplace=True)\n",
    "little_graph = nx.DiGraph()\n",
    "little_graph.add_nodes_from(small_df.link_id, type = \"link\")\n",
    "little_graph.add_nodes_from(small_df.name, type = \"comment\")\n",
    "little_graph.add_edges_from(small_df[[\"parent_id\", \"name\"]].values, linktype = \"parent\")\n",
    "    \n",
    "# prepare options\n",
    "colorNode = [0]\n",
    "nodes_to_plot = [df.link_id[0]] # labels\n",
    "for source, target, attributes in little_graph.edges.data():\n",
    "    nb_ancestors = len(nx.ancestors(little_graph, target))\n",
    "    if nb_ancestors <= 1: \n",
    "        nodes_to_plot.append(target)\n",
    "        colorNode.append(nb_ancestors)\n",
    "\n",
    "nodes_to_plot = nodes_to_plot[:200]\n",
    "colorNode = colorNode[:200]\n",
    "super_little_graph = little_graph.subgraph(nodes_to_plot)\n",
    "\n",
    "# plot\n",
    "options = {\n",
    "    'node_color' : colorNode,\n",
    "    'node_size' : 1000, \n",
    "    'cmap' : plt.get_cmap(\"jet\"),\n",
    "    'node_shape' : 'o',\n",
    "    'with_labels' : True, \n",
    "    \"width\" : 0.1, \n",
    "    \"font_size\" : 15,\n",
    "    \"nodelist\" : nodes_to_plot,\n",
    "    \"alpha\" : 0.8   \n",
    "}\n",
    "\n",
    "plt.figure(figsize=(14, 14))\n",
    "nx.draw(super_little_graph, **options)"
   ]
  },
  {
   "cell_type": "code",
   "execution_count": 56,
   "metadata": {},
   "outputs": [
    {
     "name": "stdout",
     "output_type": "stream",
     "text": [
      "Splitting the dataframe by link_id. This can take several minutes...\n",
      "Parallel processing starts!\n"
     ]
    },
    {
     "name": "stderr",
     "output_type": "stream",
     "text": [
      "done 100.000000%"
     ]
    },
    {
     "name": "stdout",
     "output_type": "stream",
     "text": [
      "Concatenating everything in our single dataframe...\n",
      "Done!\n"
     ]
    }
   ],
   "source": [
    "df = parallel_processing(df, get_depth_and_nb_neighbours, splitting_field = 'link_id')"
   ]
  },
  {
   "cell_type": "markdown",
   "metadata": {},
   "source": [
    "#### author_centralities\n",
    "\n",
    "From Kaggle: \"another way to model your data could be to define a user-user undirected network (instead of a comment-comment like we just did). In this network, a node is a user and there exists a link between two users if one has answered a comment from the other.\n",
    "The idea is to extract communities of users and perhaps calculte some centrality metrics (to get the authority of the author for instance).\"\n",
    "\n",
    "Of course, we also want to take into account the amount of interactions between two users, wo we will add this through a weight attribute in our graph.\n",
    "\n",
    "We will hence compute the following centrality metrics:\n",
    "- **degree centrality**: for a node v it's the fraction / the number of nodes it is connected to ;\n",
    "- **betweenness_centrality**: for a node v it's the fraction / the number of all-pairs shortest paths that pass through v ;\n",
    "- **eigenvector_centrality**: it computes the centrality of a node based on the centrality of its neighbors (recursive algo) using the adjancecy matrix.\n",
    "\n",
    "Three remarks:\n",
    "- Apart from the three metrics, we also tried to compute closeness_centrality, which uses the very greedy (complexity of O(n log(n) + m) with n the number of nodes and m the number of edges) Dijkstra's algorithm to find shortest paths. As our graph isn't connected (see below), NetworkX's algorithm computes it for every connected part, but due to too many nodes, it's too slow. No big deal since we were still able to compute the three others!\n",
    "- The last two metrics (betweenness and eigenvector centrality) use the weight attribute.\n",
    "- By default, all metrics are normalized by the number of nodes in the connected part of the graph."
   ]
  },
  {
   "cell_type": "code",
   "execution_count": 47,
   "metadata": {},
   "outputs": [],
   "source": [
    "def user_user_network(df):\n",
    "    sub_df1 = df[['author', 'name']]\n",
    "    sub_df2 = df[['author', 'parent_id']]\n",
    "\n",
    "    # We want the intersections with no NA so we choose inner merge\n",
    "    print('Finding nodes to be connected. This will take a minute...')\n",
    "    df1_df2_merge = sub_df1.merge(sub_df2, left_on='name', right_on='parent_id', how='inner',\n",
    "                                  suffixes = ('_parent', '_child'))\n",
    "    \n",
    "    # We have parents on the left and childs on the right\n",
    "    df1_df2_merge = df1_df2_merge.groupby(['author_parent', 'author_child']).aggregate({'author_child':'count'})\n",
    "    df1_df2_merge.columns = ['counts']\n",
    "    df1_df2_merge.reset_index(level=0, drop=False, inplace=True)\n",
    "    df1_df2_merge.reset_index(level=0, drop=False, inplace=True)\n",
    "    \n",
    "    nodes_to_be_connected = df1_df2_merge.values\n",
    "    \n",
    "    # Graph (Undirected)\n",
    "    g = nx.Graph() # Undirected Simple type\n",
    "    g.add_weighted_edges_from(nodes_to_be_connected)\n",
    "    print('Graph created!')\n",
    "    return(g)"
   ]
  },
  {
   "cell_type": "code",
   "execution_count": 48,
   "metadata": {},
   "outputs": [],
   "source": [
    "def get_author_centralities(df):\n",
    "    degree_centralities = []\n",
    "    betweenness_centralities = []\n",
    "    eigenvector_centralities = []\n",
    "    \n",
    "    print(\"Getting degree centralities...\")\n",
    "    deg = nx.degree_centrality(authors_graph)\n",
    "    \n",
    "    print(\"Getting eigenvector centralities...\")    \n",
    "    eig = nx.eigenvector_centrality(authors_graph, weight = 'weight')\n",
    "    \n",
    "    print(\"Getting betweenness centralities...\")\n",
    "    print(\"We use 50 nodes to estimate betweenness centrality so you might want to go for a coffee :D\")\n",
    "    bet = nx.betweenness_centrality(authors_graph, k = 50, weight = 'weight', normalized = True)\n",
    "    \n",
    "    #print(\"Getting closeness centralities...\")\n",
    "    #clo = nx.closeness_centrality(authors_graph, distance = 'weight', wf_improved = True)\n",
    "    \n",
    "    print(\"Appending the features...\")\n",
    "    all_nodes = authors_graph.nodes\n",
    "    deg_mean = int(pd.Series([*deg.values()]).mean())\n",
    "    eig_mean = int(pd.Series([*eig.values()]).mean())\n",
    "    bet_mean = int(pd.Series([*bet.values()]).mean())\n",
    "    for i in df.author :\n",
    "        if i in all_nodes:\n",
    "            degree_centralities.append(deg[i])\n",
    "            eigenvector_centralities.append(eig[i])\n",
    "            betweenness_centralities.append(bet[i])\n",
    "        else:\n",
    "            degree_centralities.append(deg_mean)\n",
    "            eigenvector_centralities.append(eig_mean)\n",
    "            betweenness_centralities.append(bet_mean)\n",
    "    \n",
    "    df['degree_centrality'] = degree_centralities\n",
    "    df['betweenness_centrality'] = betweenness_centralities\n",
    "    df['eigenvector_centrality'] = eigenvector_centralities\n",
    "    \n",
    "    print(\"Done!\")\n",
    "    return(df)"
   ]
  },
  {
   "cell_type": "code",
   "execution_count": 57,
   "metadata": {
    "scrolled": true
   },
   "outputs": [
    {
     "name": "stdout",
     "output_type": "stream",
     "text": [
      "Finding nodes to be connected. This will take a minute...\n",
      "Graph created!\n"
     ]
    }
   ],
   "source": [
    "authors_graph = user_user_network(df)"
   ]
  },
  {
   "cell_type": "code",
   "execution_count": 58,
   "metadata": {},
   "outputs": [
    {
     "name": "stdout",
     "output_type": "stream",
     "text": [
      "The graph is not connected.\n"
     ]
    }
   ],
   "source": [
    "if nx.is_connected(authors_graph) == False :\n",
    "    print('The graph is not connected.')\n",
    "else: \n",
    "    print('The graph is connected.')"
   ]
  },
  {
   "cell_type": "code",
   "execution_count": null,
   "metadata": {},
   "outputs": [],
   "source": [
    "df = get_author_centralities(df)"
   ]
  },
  {
   "cell_type": "markdown",
   "metadata": {},
   "source": [
    "#### nb_com_author\n",
    "In the case of nb_com_author, the keys of the dico will be our author names, and the values will be a counting of the number of comments they made. A remark: AutoModerator couldn't be removed on the cleaning phase because it is in some rows of the test, and so in order not to dramatically increase the variance of our feature, we will replace the real value by the median ourselves."
   ]
  },
  {
   "cell_type": "code",
   "execution_count": 50,
   "metadata": {},
   "outputs": [],
   "source": [
    "def get_nb_com_author(df):\n",
    "    author_to_nbcoms = pd.Series(df.name.values, index=df.author).groupby(by=['author']).count().to_dict()\n",
    "    author_to_nbcoms['AutoModerator'] = pd.Series([*author_to_nbcoms.values()]).median() # median replacement\n",
    "    df['nb_com_author'] = df.author.apply(lambda x: try_to_get_from_dico(author_to_nbcoms, x))\n",
    "    return(df)"
   ]
  },
  {
   "cell_type": "code",
   "execution_count": 51,
   "metadata": {},
   "outputs": [],
   "source": [
    "df = get_nb_com_author(df)"
   ]
  },
  {
   "cell_type": "markdown",
   "metadata": {},
   "source": [
    "#### order_com"
   ]
  },
  {
   "cell_type": "code",
   "execution_count": 52,
   "metadata": {},
   "outputs": [],
   "source": [
    "def get_order_com(df):\n",
    "    \"\"\"Gets the order of apparition (i.e. rank) of each comment, inside a thread, based on time it was published.\n",
    "This rank is then divided by the length of the thread to normalize the values.\n",
    "Two comments with same publication time will have the same order.\n",
    "\n",
    "    Parameters:\n",
    "    df (dataframe)   : dataframe\n",
    "\n",
    "    Returns:\n",
    "    df               : dataframe (with order_com)\"\"\"\n",
    "    \n",
    "    timestamps = df.created_utc.tolist()\n",
    "    s = sorted(timestamps)\n",
    "    df['order_com'] = [s.index(x) for x in timestamps]\n",
    "    \n",
    "    return(df)"
   ]
  },
  {
   "cell_type": "code",
   "execution_count": 53,
   "metadata": {},
   "outputs": [
    {
     "name": "stdout",
     "output_type": "stream",
     "text": [
      "Splitting the dataframe by link_id. This can take several minutes...\n",
      "Parallel processing starts!\n"
     ]
    },
    {
     "name": "stderr",
     "output_type": "stream",
     "text": [
      "done 100.000000%"
     ]
    },
    {
     "name": "stdout",
     "output_type": "stream",
     "text": [
      "Concatenating everything in our single dataframe...\n",
      "Done!\n"
     ]
    }
   ],
   "source": [
    "df = parallel_processing(df, get_order_com, splitting_field = 'link_id')"
   ]
  },
  {
   "cell_type": "markdown",
   "metadata": {},
   "source": [
    "#### parent_score\n",
    "\n",
    "To get the parent_score, we get a dictionary with the scores of every comment. Then, for every parent_id, we try to find it among the keys od the dictionary (the names), and get the score. Of course, some comments don't have a parent, so in this case we simply decided to use median imputation (mean was too high as it is too sensible to extreme values)."
   ]
  },
  {
   "cell_type": "code",
   "execution_count": 60,
   "metadata": {},
   "outputs": [],
   "source": [
    "def get_parent_score(df):\n",
    "    comment_to_score = pd.Series(df['ups'].values, index=df['name']).to_dict() # dictionary\n",
    "    df['parent_score'] = df.parent_id.apply(lambda x: try_to_get_from_dico(comment_to_score, x))\n",
    "    # fill nas\n",
    "    med = df.parent_score.median()\n",
    "    df.parent_score.fillna(med, inplace=True)\n",
    "    return(df)"
   ]
  },
  {
   "cell_type": "code",
   "execution_count": 61,
   "metadata": {},
   "outputs": [],
   "source": [
    "df = get_parent_score(df)"
   ]
  },
  {
   "cell_type": "markdown",
   "metadata": {},
   "source": [
    "## Time based features\n",
    "\n",
    "- **time_lapse**: time since publication of first comment in thread\n",
    "- **hour**: hour of the day the comment was posted\n",
    "- **weekday**: day of the week the comment was published\n",
    "- **time_since_parent**: the elapsed time between the post publication and the parent publication."
   ]
  },
  {
   "cell_type": "code",
   "execution_count": 62,
   "metadata": {},
   "outputs": [],
   "source": [
    "# Convert created_utc to datetime\n",
    "df['time'] = pd.to_datetime(df.created_utc, unit='s')"
   ]
  },
  {
   "cell_type": "markdown",
   "metadata": {},
   "source": [
    "#### time_lapse\n",
    "First of all, we will create a dictionary with publication times for first comment(s) in each thread.\n",
    "Then, we will try to get the time difference between comment publication and first comment publication.\n",
    "We didn't have any NA (logically, as there is always a first comment), so no need for median or mean imputation here."
   ]
  },
  {
   "cell_type": "code",
   "execution_count": 63,
   "metadata": {},
   "outputs": [],
   "source": [
    "def get_time_lapse(df):\n",
    "    df_first_comment_dict = df[['link_id', 'time']].groupby(by=['link_id']).min().to_dict('index') # dictionary\n",
    "    df['time_lapse'] = df.time - df.link_id.apply(lambda x: df_first_comment_dict[x]['time'])\n",
    "    df.time_lapse = df.time_lapse.apply(lambda x: x.total_seconds())\n",
    "    return(df)"
   ]
  },
  {
   "cell_type": "code",
   "execution_count": 64,
   "metadata": {},
   "outputs": [],
   "source": [
    "df = get_time_lapse(df)"
   ]
  },
  {
   "cell_type": "markdown",
   "metadata": {},
   "source": [
    "#### hour and weekday"
   ]
  },
  {
   "cell_type": "code",
   "execution_count": 65,
   "metadata": {},
   "outputs": [],
   "source": [
    "df['hour'] = df.time.apply(lambda x: x.hour)\n",
    "df['weekday'] = df.time.dt.weekday"
   ]
  },
  {
   "cell_type": "markdown",
   "metadata": {},
   "source": [
    "#### time_since_parent\n",
    "\n",
    "Our appracoh here will be similar to what we did with time_lapse. It will consist in creating a dictionary with all times for each comment (i.e. for each name) at first.\n",
    "Then, we will try to get the publication time of the parent.\n",
    "Of course, if the parent_id does not correspond to any name, then time_since_parent will be missing. In that case, we will assume that if the time is missing, it means that the comment does not have a parent. Hence we will simply replace missing values by publication time, so that afterwards, when we compute the differences between both values, we will have time_since_parent = 0 seconds."
   ]
  },
  {
   "cell_type": "code",
   "execution_count": 66,
   "metadata": {},
   "outputs": [],
   "source": [
    "def get_time_since_parent(df):\n",
    "    times_for_each_comment = pd.Series(df.time.values, index=df.name).to_dict()\n",
    "    df['time_since_parent'] = df.parent_id.apply(lambda x: try_to_get_from_dico(times_for_each_comment, x))\n",
    "    df.loc[df.time_since_parent.isna(), 'time_since_parent'] = df.time\n",
    "    df.time_since_parent = df.time - df.time_since_parent\n",
    "    df.time_since_parent = df.time_since_parent.apply(lambda x: x.total_seconds())\n",
    "    return(df)"
   ]
  },
  {
   "cell_type": "code",
   "execution_count": 67,
   "metadata": {},
   "outputs": [],
   "source": [
    "df = get_time_since_parent(df)"
   ]
  },
  {
   "cell_type": "markdown",
   "metadata": {},
   "source": [
    "The modelisation part will be in the other notebook"
   ]
  },
  {
   "cell_type": "code",
   "execution_count": 68,
   "metadata": {},
   "outputs": [],
   "source": [
    "df.to_pickle(\"df_v13.pkl\")"
   ]
  }
 ],
 "metadata": {
  "kernelspec": {
   "display_name": "Python 3",
   "language": "python",
   "name": "python3"
  },
  "language_info": {
   "codemirror_mode": {
    "name": "ipython",
    "version": 3
   },
   "file_extension": ".py",
   "mimetype": "text/x-python",
   "name": "python",
   "nbconvert_exporter": "python",
   "pygments_lexer": "ipython3",
   "version": "3.7.3"
  }
 },
 "nbformat": 4,
 "nbformat_minor": 2
}
